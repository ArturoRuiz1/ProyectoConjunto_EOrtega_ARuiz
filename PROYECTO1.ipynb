{
 "cells": [
  {
   "cell_type": "markdown",
   "metadata": {},
   "source": [
    "### EXPECTATIVAS DEL CURSO \n",
    "###### ALUMNOS : \n",
    "              EDUARDO ORTEGA\n",
    "              ARTURO RUIZ\n",
    "LAS EXPECTATIVAS DEL CURSO SON QUE PODAMOS APRENDER A SIMULAR LOS PROCESOS QUE REALMENTE TENGAN UTILIDAD EN EL MERCADO, ADEMÁS DE PODER DAR UN ASOSORAMIENTO A FUTUTROS CLIENTES APLICANDO LO VISTO EN CLASES. "
   ]
  },
  {
   "cell_type": "markdown",
   "metadata": {},
   "source": [
    "## FÓRMULA DE ECUACIÓN GENERAL DE SEGUNDO GRADO\n",
    "\n",
    "$$ ax^{2}+bx+c=0 $$"
   ]
  },
  {
   "cell_type": "markdown",
   "metadata": {},
   "source": [
    "## IMAGEN\n",
    "<img style=\"float: left; margin: 0px 0px 15px 15px;\" src=\"http://wall.rimbuz.com/wp-content/uploads/Laptop-Awesome-Wallpapers.jpg\" width=\"200px\" height=\"200px\" alt=\"atom\" />"
   ]
  },
  {
   "cell_type": "markdown",
   "metadata": {},
   "source": [
    "## Tabla\n",
    "\n",
    "|ALUMNO|EDAD|CARRERA|\n",
    "|------|----|-------|\n",
    "|ARTURO|21|ING. FINANCIERA|\n",
    "|EDUARDO|21|ING. FINANCIERA|"
   ]
  }
 ],
 "metadata": {
  "anaconda-cloud": {},
  "kernelspec": {
   "display_name": "Python [Root]",
   "language": "python",
   "name": "Python [Root]"
  },
  "language_info": {
   "codemirror_mode": {
    "name": "ipython",
    "version": 3
   },
   "file_extension": ".py",
   "mimetype": "text/x-python",
   "name": "python",
   "nbconvert_exporter": "python",
   "pygments_lexer": "ipython3",
   "version": "3.5.2"
  }
 },
 "nbformat": 4,
 "nbformat_minor": 2
}
