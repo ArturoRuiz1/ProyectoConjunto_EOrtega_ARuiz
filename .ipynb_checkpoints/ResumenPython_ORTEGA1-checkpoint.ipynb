{
 "cells": [
  {
   "cell_type": "markdown",
   "metadata": {},
   "source": [
    "# RESUMEN PYTHON\n",
    "\n",
    "Python es un lenguaje de programación interpretado,\n",
    "interactivo y orientado a objetos. Incorpora módulos,\n",
    "excepciones, tipado dinámico, tipos de datos dinámicos de\n",
    "muy alto nivel, y clases. \n",
    "\n",
    "Python combina potencia con una sintaxis muy clara. Tiene\n",
    "interfaces a muchas llamadas al sistema y bibliotecas, así\n",
    "como también a varios sistemas de ventanas, y es extensible\n",
    "en C o C++.\n",
    "\n",
    "Fue creado a principios de los 90 por Guido Van Rossum en el Stichting\n",
    "Mathematisch Centrum (Instituto Nacional de Investigación de Matemáticas\n",
    "y Ciencias de la Computación en Holanda ), como sucesor de un lenguaje\n",
    "llamado ABC.\n",
    "## VENTAJAS\n",
    "Posee una sintaxis sencilla: rápido aprendizaje.\n",
    ">- Tratamiento de excepciones con nombre.\n",
    "\n",
    ">- Extensible a otros sistemas software.\n",
    "\n",
    ">- Flexible en el tratamiento del lenguaje:un módulo que interactuará con un sistema\n",
    "externo puede ser probado con una “imitación” del sistema escrito en Python.\n",
    "\n",
    ">- Es un lenguaje dinámicamente interpretado.\n",
    "\n",
    ">- Es orientado a objetos:\n",
    "\n",
    ">- Herencia múltiple.\n",
    "\n",
    ">- Ligadura dinamica.\n",
    "\n",
    ">- Polimorfismo.\n",
    "\n",
    ">- Su núcleo es también orientado a objetos: jerarquía de clases.\n",
    "\n",
    ">- Portable: está implementado en C estándar usando E/S Posix.\n",
    "\n",
    ">- Gratuito, y de libre distribución.\n",
    "\n",
    "## DESVENTAJAS\n",
    "Python no pretende se perfecto para todos los propósitos.\n",
    "Podemos suponer que la mayoría de los programas escritos hoy en día podrían pasarse\n",
    "a Python, pero él sólo no sería suficiente para la cantidad de aplicaciones que están\n",
    "orientadas a componentes compilados.\n",
    "\n",
    "Por ejemplo, no está indicado para las siguientes aplicaciones:\n",
    ">- Algoritmos de compresión de datos:\n",
    "\n",
    ">Estos algoritmos traducen un flujo de datos a una forma más pequeña.\n",
    "Esto implica examinar cada byte, y hacer un tratamiento estadístico. Para grandes\n",
    "cantidades de datos los compresores escritos en Python resultan demasiado lentos.\n",
    ">- Controladores de dispositivos:\n",
    "Al igual que antes, una aplicación que realice millones de operaciones en punto flotante\n",
    "no uniformes será demasiado lenta en Python.\n",
    ">- Operaciones críticas de bases de datos.\n",
    ">- Operaciones altamente especializadas."
   ]
  },
  {
   "cell_type": "markdown",
   "metadata": {},
   "source": [
    "> <font color=blue> **Ejercicio: Probar el funcionamiento de cada una de estas funciones creando tu propia lista y modificándola **"
   ]
  },
  {
   "cell_type": "markdown",
   "metadata": {},
   "source": [
    "\n",
    ">   - `lista[i]`: Devuelve el elemento que está en la posición i de la lista.\n",
    ">   - `lista.pop(i)`: Devuelve el elemento en la posición i de una lista y luego lo borra.\n",
    ">   - `lista.append(elemento)`: Añade elemento al final de la lista.\n",
    ">   - `lista.insert(i, elemento)`: Inserta elemento en la posición i.\n",
    ">   - `lista.extend(lista2)`: Fusiona lista con lista2.\n",
    ">   - `lista.remove(elemento)`: Elimina la primera vez que aparece elemento."
   ]
  },
  {
   "cell_type": "code",
   "execution_count": 2,
   "metadata": {},
   "outputs": [
    {
     "name": "stdout",
     "output_type": "stream",
     "text": [
      "omar\n",
      "['eduardo', 'omar', 'ortega']\n",
      "['eduardo', 'omar', 'ortega', 'Ramírez']\n",
      "['Eduardo', 'omar', 'ortega', 'Ramírez']\n",
      "['Eduardo', 'omar', 'ortega', 'Ramírez', 'Edad 21', 'Hombre', 'omar']\n",
      "['Eduardo', 'ortega', 'Ramírez', 'Edad 21', 'Hombre', 'omar']\n"
     ]
    }
   ],
   "source": [
    "lista_eduardo=[\"eduardo\",\"omar\",\"ortega\",\"ramirez\"]\n",
    "print(lista_eduardo[1])\n",
    "lista_eduardo.pop(3)\n",
    "print(lista_eduardo)\n",
    "lista_eduardo.append(\"Ramírez\")\n",
    "print(lista_eduardo)\n",
    "lista_eduardo.pop(0)\n",
    "lista_eduardo.insert(0,\"Eduardo\")\n",
    "print(lista_eduardo)\n",
    "lista2=[\"Edad 21\",\"Hombre\",\"omar\"]\n",
    "lista_eduardo.extend(lista2)\n",
    "print(lista_eduardo)\n",
    "lista_eduardo.remove(\"omar\")\n",
    "print(lista_eduardo)"
   ]
  },
  {
   "cell_type": "markdown",
   "metadata": {},
   "source": [
    "> <font color=blue> **Ejercicio: Probar el funcionamiento de cada una de estas funciones creando tu propio diccionario y modificándolo **"
   ]
  },
  {
   "cell_type": "markdown",
   "metadata": {},
   "source": [
    ">    - `diccionario.get(‘key’)`: Devuelve el valor que corresponde con la key introducida.\n",
    ">    - `diccionario.pop(‘key’)`: Devuelve el valor que corresponde con la key introducida, y luego borra la key y el valor.\n",
    ">    - `“key” in diccionario`: Devuelve verdadero (True) o falso (False) si la key (no los valores) existe en el diccionario.\n",
    ">    - `“definicion” in diccionario.values()`: Devuelve verdadero (True) o falso (False) si definición existe en el diccionario (no como key).\n",
    ">    - `diccionario.keys()`: Devuelve todas las palabras `keys` del diccionario. \n",
    ">    - `diccionario.values()`: Devuelve todos los `values` de todas las palabras `keys` del diccionario."
   ]
  },
  {
   "cell_type": "code",
   "execution_count": 3,
   "metadata": {},
   "outputs": [
    {
     "name": "stdout",
     "output_type": "stream",
     "text": [
      "Eduardo Ortega\n"
     ]
    },
    {
     "data": {
      "text/plain": [
       "dict_values(['Eduardo Ortega', 'Arturo Ruiz'])"
      ]
     },
     "execution_count": 3,
     "metadata": {},
     "output_type": "execute_result"
    }
   ],
   "source": [
    "dic={\"Alumno 1\":\"Eduardo Ortega\",\"Alumno 2\":\"Arturo Ruiz\"}\n",
    "print(dic[\"Alumno 1\"])\n",
    "dic.get(\"Alumno 1\")\n",
    "\"Alumno 2\" in dic\n",
    "dic.keys()\n",
    "dic.values()"
   ]
  }
 ],
 "metadata": {
  "kernelspec": {
   "display_name": "Python 3",
   "language": "python",
   "name": "python3"
  },
  "language_info": {
   "codemirror_mode": {
    "name": "ipython",
    "version": 3
   },
   "file_extension": ".py",
   "mimetype": "text/x-python",
   "name": "python",
   "nbconvert_exporter": "python",
   "pygments_lexer": "ipython3",
   "version": "3.6.2"
  }
 },
 "nbformat": 4,
 "nbformat_minor": 2
}
