{
 "cells": [
  {
   "cell_type": "markdown",
   "metadata": {
    "collapsed": true
   },
   "source": [
    "## Resumen de python"
   ]
  },
  {
   "cell_type": "markdown",
   "metadata": {},
   "source": [
    "#### Python es un lenguaje de programación de propósito general, orientado a objetos, que también puede utilizarse para el desarrollo web."
   ]
  },
  {
   "cell_type": "markdown",
   "metadata": {},
   "source": [
    "#### Principalmente Python es un lenguaje de scripting independiente de plataforma y orientado a objetos, preparado para realizar cualquier tipo de programa, desde aplicaciones Windows a servidores de red o incluso, páginas web. Es un lenguaje interpretado, lo que significa que no se necesita compilar el código fuente para poder ejecutarlo, lo que ofrece ventajas como la rapidez de desarrollo e inconvenientes como una menor velocidad. "
   ]
  },
  {
   "cell_type": "markdown",
   "metadata": {},
   "source": [
    "## En los últimos años el lenguaje se ha hecho muy popular, gracias a varias razones como: "
   ]
  },
  {
   "cell_type": "markdown",
   "metadata": {},
   "source": [
    "#### La cantidad de librerías que contiene, tipos de datos y funciones incorporadas en el propio lenguaje, que ayudan a realizar muchas tareas habituales sin necesidad de tener que programarlas desde cero. "
   ]
  },
  {
   "cell_type": "markdown",
   "metadata": {},
   "source": [
    "#### La sencillez y velocidad con la que se crean los programas. Un programa en Python puede tener de 3 a 5 líneas de código menos que su equivalente en Java o C. "
   ]
  },
  {
   "cell_type": "markdown",
   "metadata": {},
   "source": [
    "#### La cantidad de plataformas en las que podemos desarrollar, como Unix, Windows, OS/2, Mac, Amiga y otros. "
   ]
  },
  {
   "cell_type": "markdown",
   "metadata": {},
   "source": [
    "#### Además, Python es gratuito, incluso para propósitos empresariales. "
   ]
  },
  {
   "cell_type": "markdown",
   "metadata": {},
   "source": [
    "## ¿De donde provino python?"
   ]
  },
  {
   "cell_type": "markdown",
   "metadata": {},
   "source": [
    "#### El creador del lenguaje es un europeo llamado Guido Van Rossum. Hace ya más de una década que diseño Python, ayudado y motivado por su experiencia en la creación de otro lenguaje llamado ABC. El objetivo de Guido era cubrir la necesidad de un lenguaje orientado a objetos de sencillo uso que sirviese para tratar diversas tareas dentro de la programación que habitualmente se hacía en Unix usando C. "
   ]
  },
  {
   "cell_type": "markdown",
   "metadata": {},
   "source": [
    "# Tiene muchas funciones y librería ya hechas"
   ]
  },
  {
   "cell_type": "markdown",
   "metadata": {},
   "source": [
    "#### Dispone de muchas funciones incorporadas en el propio lenguaje, para el tratamiento de strings, números, archivos, etc. Además, existen muchas librerías que podemos importar en los programas para tratar temas específicos como la programación de ventanas o sistemas en red o cosas tan interesantes como crear archivos comprimidos en .zip. "
   ]
  },
  {
   "cell_type": "markdown",
   "metadata": {},
   "source": [
    "## En conclusión:"
   ]
  },
  {
   "cell_type": "markdown",
   "metadata": {},
   "source": [
    "#### Python está en movimiento y en pleno desarrollo, pero ya es una realidad y una interesante opción para realizar todo tipo de programas que se ejecuten en cualquier máquina. El equipo de desarrollo está trabajando de manera cada vez más organizada y cuentan con el apoyo de una comunidad que está creciendo rápidamente. "
   ]
  },
  {
   "cell_type": "markdown",
   "metadata": {},
   "source": [
    "## Ejercicios de la librería de python (más abajo)"
   ]
  },
  {
   "cell_type": "markdown",
   "metadata": {},
   "source": [
    "## Aprendiendo basic python:"
   ]
  },
  {
   "cell_type": "markdown",
   "metadata": {},
   "source": [
    "### Palabras reservadas"
   ]
  },
  {
   "cell_type": "markdown",
   "metadata": {},
   "source": [
    "La siguiente es una lista de palabras clave para Python. Estas estan reservadas para comandos especiales y no las podemos usar como variables o constantes o cualquier tipo de identificador de nombres escritos en minusculas."
   ]
  },
  {
   "cell_type": "code",
   "execution_count": 19,
   "metadata": {
    "collapsed": true
   },
   "outputs": [],
   "source": [
    "#and\n",
    "#assert\n",
    "#break\n",
    "#class\n",
    "#continue\n",
    "#def\n",
    "#del\n",
    "#elif\n",
    "#else\n",
    "#except\n",
    "#exec\n",
    "#finally\n",
    "#for\n",
    "#from\n",
    "#global\n",
    "#if\n",
    "#import\n",
    "#in\n",
    "#is\n",
    "#lambda\n",
    "#not\n",
    "#or\n",
    "#pass\n",
    "#print\n",
    "#raise\n",
    "#return\n",
    "#try\n",
    "#while\n",
    "#with\n",
    "#yield"
   ]
  },
  {
   "cell_type": "code",
   "execution_count": null,
   "metadata": {
    "collapsed": true
   },
   "outputs": [],
   "source": []
  },
  {
   "cell_type": "markdown",
   "metadata": {
    "collapsed": true
   },
   "source": []
  },
  {
   "cell_type": "markdown",
   "metadata": {
    "collapsed": true
   },
   "source": [
    "## Lineas y sangría, esto es muy importante ya que puede estropear el codigo"
   ]
  },
  {
   "cell_type": "code",
   "execution_count": 2,
   "metadata": {
    "collapsed": false
   },
   "outputs": [
    {
     "name": "stdout",
     "output_type": "stream",
     "text": [
      "Ingrese el valor de condición -> 4\n"
     ]
    }
   ],
   "source": [
    "condiciones = int(input(\"Ingrese el valor de condición -> \"))\n",
    "if condiciones == 1:\n",
    "    print(\"El usuario ingresó que condiciones es igual a %d\" % (condicion) )"
   ]
  },
  {
   "cell_type": "markdown",
   "metadata": {},
   "source": [
    "## Las comillas en python"
   ]
  },
  {
   "cell_type": "code",
   "execution_count": 5,
   "metadata": {
    "collapsed": false
   },
   "outputs": [
    {
     "name": "stdout",
     "output_type": "stream",
     "text": [
      "palabra\n",
      "una frase\n",
      "se trata de un parrafo de 4 o 5 lineas\n"
     ]
    }
   ],
   "source": [
    "palabra = 'palabra'                 \n",
    "frase = \"una frase\"\n",
    "párrafo = \"\"\"se trata de un parrafo de 4 o 5 lineas\"\"\"\n",
    "print(palabra)\n",
    "print(frase)\n",
    "print(párrafo)"
   ]
  },
  {
   "cell_type": "markdown",
   "metadata": {},
   "source": [
    "## Variables de python\n",
    "Los tipos de variables con los que trabaja python son:\n",
    "- Números que son:\n",
    "     - Enteros (int)\n",
    "     - Enteros largos (long)- se pueden representar números en `octal` y `hexadecimal`\n",
    "     - Decimales (flotantes - float)\n",
    "     - Complejos \n",
    "- Texto (string)"
   ]
  },
  {
   "cell_type": "code",
   "execution_count": 7,
   "metadata": {
    "collapsed": false
   },
   "outputs": [
    {
     "name": "stdout",
     "output_type": "stream",
     "text": [
      "10 , 10.5 , tarea , 3 , 23 , hola , 6j\n"
     ]
    }
   ],
   "source": [
    "entero = 10\n",
    "flotante = 10.5\n",
    "text = \"tarea\"\n",
    "a,b,c,d = 3, 23, \"hola\", 6j\n",
    "print(entero,',',flotante,',',text,',',a,',',b,',',c,',',d)"
   ]
  },
  {
   "cell_type": "markdown",
   "metadata": {},
   "source": [
    "### Declaraciones en linea multiple"
   ]
  },
  {
   "cell_type": "code",
   "execution_count": 21,
   "metadata": {
    "collapsed": true
   },
   "outputs": [],
   "source": [
    "objeto_1 = 5\n",
    "objeto_2 = 7\n",
    "objeto_3 = 8"
   ]
  },
  {
   "cell_type": "code",
   "execution_count": 22,
   "metadata": {
    "collapsed": false
   },
   "outputs": [
    {
     "name": "stdout",
     "output_type": "stream",
     "text": [
      "20\n"
     ]
    }
   ],
   "source": [
    "todoslosobjetos = objeto_1 + \\\n",
    "        objeto_2 + \\\n",
    "        objeto_3\n",
    "print(todoslosobjetos)"
   ]
  },
  {
   "cell_type": "markdown",
   "metadata": {},
   "source": [
    "## Cometarios python"
   ]
  },
  {
   "cell_type": "markdown",
   "metadata": {},
   "source": [
    "Para realizar comentarios solamente se pone un #al inicio del código"
   ]
  },
  {
   "cell_type": "code",
   "execution_count": 23,
   "metadata": {
    "collapsed": true
   },
   "outputs": [],
   "source": [
    "#Hola\n",
    "#Me llamo Arturo"
   ]
  },
  {
   "cell_type": "markdown",
   "metadata": {},
   "source": [
    "### Varias declaraciones en una linea usando \";\""
   ]
  },
  {
   "cell_type": "code",
   "execution_count": 31,
   "metadata": {
    "collapsed": false
   },
   "outputs": [],
   "source": [
    "x = 1+1/4; y = 3+23; c = 3*x + y"
   ]
  },
  {
   "cell_type": "code",
   "execution_count": 32,
   "metadata": {
    "collapsed": false
   },
   "outputs": [
    {
     "name": "stdout",
     "output_type": "stream",
     "text": [
      "1.25\n"
     ]
    }
   ],
   "source": [
    "print(x)"
   ]
  },
  {
   "cell_type": "code",
   "execution_count": 33,
   "metadata": {
    "collapsed": false
   },
   "outputs": [
    {
     "name": "stdout",
     "output_type": "stream",
     "text": [
      "26\n"
     ]
    }
   ],
   "source": [
    "print(y)"
   ]
  },
  {
   "cell_type": "code",
   "execution_count": 34,
   "metadata": {
    "collapsed": false
   },
   "outputs": [
    {
     "name": "stdout",
     "output_type": "stream",
     "text": [
      "29.75\n"
     ]
    }
   ],
   "source": [
    "print(c)"
   ]
  },
  {
   "cell_type": "markdown",
   "metadata": {},
   "source": [
    "### Grupos de multiples declaraciones como grupo o varios"
   ]
  },
  {
   "cell_type": "code",
   "execution_count": 36,
   "metadata": {
    "collapsed": false
   },
   "outputs": [
    {
     "name": "stdout",
     "output_type": "stream",
     "text": [
      "Quien es?\n",
      "Arturo\n",
      "Hola  Arturo. ¿Cual es la clave?\n",
      "simulacion\n",
      "Acceso aceptado\n"
     ]
    }
   ],
   "source": [
    "name= ''\n",
    "while True:\n",
    "    print ('Quien es?')\n",
    "    nombre = input ()\n",
    "    if nombre != 'Arturo':\n",
    "        continue\n",
    "    print (\"Hola  Arturo. ¿Cual es la clave?\")\n",
    "    clave = input()\n",
    "    if clave == 'simulacion':\n",
    "        break\n",
    "print  ('Acceso aceptado')"
   ]
  },
  {
   "cell_type": "markdown",
   "metadata": {},
   "source": [
    "## existen varios tipos de datos estandar ya en pyhton, clase 4 ejercicios:\n",
    "#### Numeros, texto, listas, tuplas y diccionarios"
   ]
  },
  {
   "cell_type": "markdown",
   "metadata": {},
   "source": [
    "## Texto"
   ]
  },
  {
   "cell_type": "code",
   "execution_count": 8,
   "metadata": {
    "collapsed": false
   },
   "outputs": [
    {
     "name": "stdout",
     "output_type": "stream",
     "text": [
      "Hola buenas noches\n",
      " bue\n"
     ]
    }
   ],
   "source": [
    "a =\"Hola buenas noches\"\n",
    "print(a)\n",
    "print(a[4:8])"
   ]
  },
  {
   "cell_type": "markdown",
   "metadata": {},
   "source": [
    "- ### Listas:\n",
    "\n",
    "    Las listas son herramientas que almacenan tipos de datos separados por comas (\",\") y encerrados dentro de un corchete ([]). elementos dentro pueden ser de diferente tipo, y de igual forma que los textos también se puede acceder a una posición en particular de las listas usando ([],[:]), duplicar la lista usando ('*') y el operador ('+') para la concatenación de listas"
   ]
  },
  {
   "cell_type": "code",
   "execution_count": 56,
   "metadata": {
    "collapsed": false
   },
   "outputs": [
    {
     "name": "stdout",
     "output_type": "stream",
     "text": [
      "['hola', 'son 2 o mas palabras', 2, [1, 2, 3], 'chocolate']\n",
      "[[1, 2, 3], 'chocolate']\n",
      "[2, [1, 2, 3]]\n",
      "['hola', 'son 2 o mas palabras', 2, [1, 2, 3], 'chocolate', 'hola', 'son 2 o mas palabras', 2, [1, 2, 3], 'chocolate']\n",
      "hola\n"
     ]
    }
   ],
   "source": [
    "lista1 = ['hola', \"son 2 o mas palabras\", 2,[1,2,3],\"chocolate\",]\n",
    "print(lista1)\n",
    "print(lista1[3:])\n",
    "print(lista1[2:-1])\n",
    "print(lista1*2)\n",
    "print(lista1[0])\n"
   ]
  },
  {
   "cell_type": "markdown",
   "metadata": {},
   "source": [
    "- ### Tuplas\n",
    "\n",
    "    Son simulares a las listas, una tupla consiste de número de valores separados por comas (',') y deben de ser escritas dentro de paréntesis ('()'). A diferencia de las listas, las tuplas no pueden ser modificadas son de pura lectura."
   ]
  },
  {
   "cell_type": "code",
   "execution_count": 39,
   "metadata": {
    "collapsed": false
   },
   "outputs": [
    {
     "name": "stdout",
     "output_type": "stream",
     "text": [
      "('hola ', 'quant', 3, 7.2, 333, [1, 2])\n",
      "hola \n",
      "(3, 7.2, 333, [1, 2])\n",
      "('hola ', 'quant', 3, 7.2, 333, [1, 2], 'hola ', 'quant', 3, 7.2, 333, [1, 2])\n",
      "('hola ', 'quant', 3, 7.2, 333, [1, 2], 1e-05, 'josue')\n"
     ]
    }
   ],
   "source": [
    "tupla = (\"hola \", 'quant', 3,7.2,333,[1,2])\n",
    "print(tupla)\n",
    "print(tupla[0])\n",
    "print(tupla[2:])\n",
    "print(tupla*2)\n",
    "print(tupla+(1e-5,'josue'))"
   ]
  },
  {
   "cell_type": "markdown",
   "metadata": {},
   "source": [
    "- ## Diccionarios\n",
    "    Como sucede con un diccionario convencional, un diccionario en Python es una palabra que tiene asociado algo, los diccionarios no tienen un orden.\n",
    "\n",
    "    Se crean con elementos entre llaves {“a”:”Alo”, “b”:”bartolome”,>>>}. keys son las palabras y values las definiciones."
   ]
  },
  {
   "cell_type": "code",
   "execution_count": 53,
   "metadata": {
    "collapsed": false
   },
   "outputs": [
    {
     "name": "stdout",
     "output_type": "stream",
     "text": [
      "{'Jugador1': 'Messi', 'Jugador2': 'Cristiano', 'Jugador3': 'Neymar'}\n",
      "Messi\n",
      "Cristiano\n"
     ]
    }
   ],
   "source": [
    "diccionario={'Jugador1':\"Messi\", 'Jugador2':'Cristiano', 'Jugador3':'Neymar'}\n",
    "print(diccionario)\n",
    "print(diccionario['Jugador1'])\n",
    "print(diccionario['Jugador2'])\n"
   ]
  },
  {
   "cell_type": "code",
   "execution_count": null,
   "metadata": {
    "collapsed": false
   },
   "outputs": [],
   "source": []
  }
 ],
 "metadata": {
  "kernelspec": {
   "display_name": "Python [Root]",
   "language": "python",
   "name": "Python [Root]"
  },
  "language_info": {
   "codemirror_mode": {
    "name": "ipython",
    "version": 3
   },
   "file_extension": ".py",
   "mimetype": "text/x-python",
   "name": "python",
   "nbconvert_exporter": "python",
   "pygments_lexer": "ipython3",
   "version": "3.5.2"
  }
 },
 "nbformat": 4,
 "nbformat_minor": 0
}
